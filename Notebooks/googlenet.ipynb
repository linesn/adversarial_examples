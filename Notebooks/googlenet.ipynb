{
 "cells": [
  {
   "cell_type": "markdown",
   "metadata": {},
   "source": [
    "# Adversarial attacks on GoogleNet\n",
    "The goal of this notebook is to download a pretrained GoogleNet model for classifying CIFAR-10 images, test it on our dataset, then generate adversarial examples and see if they fool the GoogleNet model. Then we'll try transfer-training the GoogleNet model with these adversarial images to see if that makes the network robust against them, and what the accuracy cost is."
   ]
  },
  {
   "cell_type": "markdown",
   "metadata": {},
   "source": [
    "The pretrained model and the GoogLeNet class are provided by [Huy Phan](https://github.com/huyvnphan/PyTorch_CIFAR10)."
   ]
  },
  {
   "cell_type": "code",
   "execution_count": 1,
   "metadata": {},
   "outputs": [
    {
     "name": "stdout",
     "output_type": "stream",
     "text": [
      "Populating the interactive namespace from numpy and matplotlib\n"
     ]
    }
   ],
   "source": [
    "%pylab inline\n",
    "import torch\n",
    "import torchvision\n",
    "import torchvision.transforms as transforms\n",
    "import matplotlib.pyplot as plt\n",
    "import numpy as np\n",
    "import torch.nn as nn\n",
    "import torch.nn.functional as F\n",
    "import torch.optim as optim\n",
    "from tqdm import tqdm\n",
    "from PIL import Image\n",
    "import imageio\n",
    "# Model path:\n",
    "PATH = '../Models/googlenet_cifar10.pth'"
   ]
  },
  {
   "cell_type": "code",
   "execution_count": 9,
   "metadata": {},
   "outputs": [],
   "source": [
    "class GoogLeNet(nn.Module):\n",
    "\n",
    "    ## CIFAR10: aux_logits True->False\n",
    "    def __init__(self, num_classes=10, aux_logits=False, transform_input=False):\n",
    "        super(GoogLeNet, self).__init__()\n",
    "        self.aux_logits = aux_logits\n",
    "        self.transform_input = transform_input\n",
    "        \n",
    "        ## CIFAR10: out_channels 64->192, kernel_size 7->3, stride 2->1, padding 3->1\n",
    "        self.conv1 = BasicConv2d(3, 192, kernel_size=3, stride=1, padding=1)\n",
    "#         self.maxpool1 = nn.MaxPool2d(3, stride=2, ceil_mode=True)\n",
    "#         self.conv2 = BasicConv2d(64, 64, kernel_size=1)\n",
    "#         self.conv3 = BasicConv2d(64, 192, kernel_size=3, padding=1)\n",
    "#         self.maxpool2 = nn.MaxPool2d(3, stride=2, ceil_mode=True)\n",
    "        ## END\n",
    "\n",
    "        self.inception3a = Inception(192, 64, 96, 128, 16, 32, 32)\n",
    "        self.inception3b = Inception(256, 128, 128, 192, 32, 96, 64)\n",
    "        \n",
    "        ## CIFAR10: padding 0->1, ciel_model True->False\n",
    "        self.maxpool3 = nn.MaxPool2d(3, stride=2, padding=1, ceil_mode=False)\n",
    "        ## END\n",
    "\n",
    "        self.inception4a = Inception(480, 192, 96, 208, 16, 48, 64)\n",
    "        self.inception4b = Inception(512, 160, 112, 224, 24, 64, 64)\n",
    "        self.inception4c = Inception(512, 128, 128, 256, 24, 64, 64)\n",
    "        self.inception4d = Inception(512, 112, 144, 288, 32, 64, 64)\n",
    "        self.inception4e = Inception(528, 256, 160, 320, 32, 128, 128)\n",
    "        \n",
    "        ## CIFAR10: kernel_size 2->3, padding 0->1, ciel_model True->False\n",
    "        self.maxpool4 = nn.MaxPool2d(3, stride=2, padding=1, ceil_mode=False)\n",
    "        ## END\n",
    "        \n",
    "        self.inception5a = Inception(832, 256, 160, 320, 32, 128, 128)\n",
    "        self.inception5b = Inception(832, 384, 192, 384, 48, 128, 128)\n",
    "\n",
    "        if aux_logits:\n",
    "            self.aux1 = InceptionAux(512, num_classes)\n",
    "            self.aux2 = InceptionAux(528, num_classes)\n",
    "\n",
    "        self.avgpool = nn.AdaptiveAvgPool2d((1, 1))\n",
    "        self.dropout = nn.Dropout(0.2)\n",
    "        self.fc = nn.Linear(1024, num_classes)\n",
    "\n",
    "#         if init_weights:\n",
    "#             self._initialize_weights()\n",
    "\n",
    "#     def _initialize_weights(self):\n",
    "#         for m in self.modules():\n",
    "#             if isinstance(m, nn.Conv2d) or isinstance(m, nn.Linear):\n",
    "#                 import scipy.stats as stats\n",
    "#                 X = stats.truncnorm(-2, 2, scale=0.01)\n",
    "#                 values = torch.as_tensor(X.rvs(m.weight.numel()), dtype=m.weight.dtype)\n",
    "#                 values = values.view(m.weight.size())\n",
    "#                 with torch.no_grad():\n",
    "#                     m.weight.copy_(values)\n",
    "#             elif isinstance(m, nn.BatchNorm2d):\n",
    "#                 nn.init.constant_(m.weight, 1)\n",
    "#                 nn.init.constant_(m.bias, 0)\n",
    "\n",
    "    def forward(self, x):\n",
    "        if self.transform_input:\n",
    "            x_ch0 = torch.unsqueeze(x[:, 0], 1) * (0.229 / 0.5) + (0.485 - 0.5) / 0.5\n",
    "            x_ch1 = torch.unsqueeze(x[:, 1], 1) * (0.224 / 0.5) + (0.456 - 0.5) / 0.5\n",
    "            x_ch2 = torch.unsqueeze(x[:, 2], 1) * (0.225 / 0.5) + (0.406 - 0.5) / 0.5\n",
    "            x = torch.cat((x_ch0, x_ch1, x_ch2), 1)\n",
    "\n",
    "        # N x 3 x 224 x 224\n",
    "        x = self.conv1(x)\n",
    "        \n",
    "        ## CIFAR10\n",
    "        # N x 64 x 112 x 112\n",
    "#         x = self.maxpool1(x)\n",
    "        # N x 64 x 56 x 56\n",
    "#         x = self.conv2(x)\n",
    "        # N x 64 x 56 x 56\n",
    "#         x = self.conv3(x)\n",
    "        # N x 192 x 56 x 56\n",
    "#         x = self.maxpool2(x)\n",
    "        ## END\n",
    "\n",
    "        # N x 192 x 28 x 28\n",
    "        x = self.inception3a(x)\n",
    "        # N x 256 x 28 x 28\n",
    "        x = self.inception3b(x)\n",
    "        # N x 480 x 28 x 28\n",
    "        x = self.maxpool3(x)\n",
    "        # N x 480 x 14 x 14\n",
    "        x = self.inception4a(x)\n",
    "        # N x 512 x 14 x 14\n",
    "        if self.training and self.aux_logits:\n",
    "            aux1 = self.aux1(x)\n",
    "\n",
    "        x = self.inception4b(x)\n",
    "        # N x 512 x 14 x 14\n",
    "        x = self.inception4c(x)\n",
    "        # N x 512 x 14 x 14\n",
    "        x = self.inception4d(x)\n",
    "        # N x 528 x 14 x 14\n",
    "        if self.training and self.aux_logits:\n",
    "            aux2 = self.aux2(x)\n",
    "\n",
    "        x = self.inception4e(x)\n",
    "        # N x 832 x 14 x 14\n",
    "        x = self.maxpool4(x)\n",
    "        # N x 832 x 7 x 7\n",
    "        x = self.inception5a(x)\n",
    "        # N x 832 x 7 x 7\n",
    "        x = self.inception5b(x)\n",
    "        # N x 1024 x 7 x 7\n",
    "\n",
    "        x = self.avgpool(x)\n",
    "        # N x 1024 x 1 x 1\n",
    "        x = x.view(x.size(0), -1)\n",
    "        # N x 1024\n",
    "        x = self.dropout(x)\n",
    "        x = self.fc(x)\n",
    "        # N x 1000 (num_classes)\n",
    "        if self.training and self.aux_logits:\n",
    "            return _GoogLeNetOuputs(x, aux2, aux1)\n",
    "        return x\n",
    "\n",
    "    \n",
    "\n",
    "class Inception(nn.Module):\n",
    "\n",
    "    def __init__(self, in_channels, ch1x1, ch3x3red, ch3x3, ch5x5red, ch5x5, pool_proj):\n",
    "        super(Inception, self).__init__()\n",
    "\n",
    "        self.branch1 = BasicConv2d(in_channels, ch1x1, kernel_size=1)\n",
    "\n",
    "        self.branch2 = nn.Sequential(\n",
    "            BasicConv2d(in_channels, ch3x3red, kernel_size=1),\n",
    "            BasicConv2d(ch3x3red, ch3x3, kernel_size=3, padding=1)\n",
    "        )\n",
    "\n",
    "        self.branch3 = nn.Sequential(\n",
    "            BasicConv2d(in_channels, ch5x5red, kernel_size=1),\n",
    "            BasicConv2d(ch5x5red, ch5x5, kernel_size=3, padding=1)\n",
    "        )\n",
    "\n",
    "        self.branch4 = nn.Sequential(\n",
    "            nn.MaxPool2d(kernel_size=3, stride=1, padding=1, ceil_mode=True),\n",
    "            BasicConv2d(in_channels, pool_proj, kernel_size=1)\n",
    "        )\n",
    "\n",
    "    def forward(self, x):\n",
    "        branch1 = self.branch1(x)\n",
    "        branch2 = self.branch2(x)\n",
    "        branch3 = self.branch3(x)\n",
    "        branch4 = self.branch4(x)\n",
    "\n",
    "        outputs = [branch1, branch2, branch3, branch4]\n",
    "        return torch.cat(outputs, 1)\n",
    "\n",
    "\n",
    "class InceptionAux(nn.Module):\n",
    "\n",
    "    def __init__(self, in_channels, num_classes):\n",
    "        super(InceptionAux, self).__init__()\n",
    "        self.conv = BasicConv2d(in_channels, 128, kernel_size=1)\n",
    "\n",
    "        self.fc1 = nn.Linear(2048, 1024)\n",
    "        self.fc2 = nn.Linear(1024, num_classes)\n",
    "\n",
    "    def forward(self, x):\n",
    "        # aux1: N x 512 x 14 x 14, aux2: N x 528 x 14 x 14\n",
    "        x = F.adaptive_avg_pool2d(x, (4, 4))\n",
    "        # aux1: N x 512 x 4 x 4, aux2: N x 528 x 4 x 4\n",
    "        x = self.conv(x)\n",
    "        # N x 128 x 4 x 4\n",
    "        x = x.view(x.size(0), -1)\n",
    "        # N x 2048\n",
    "        x = F.relu(self.fc1(x), inplace=True)\n",
    "        # N x 2048\n",
    "        x = F.dropout(x, 0.7, training=self.training)\n",
    "        # N x 2048\n",
    "        x = self.fc2(x)\n",
    "        # N x 1024\n",
    "\n",
    "        return x\n",
    "    \n",
    "    \n",
    "class BasicConv2d(nn.Module):\n",
    "\n",
    "    def __init__(self, in_channels, out_channels, **kwargs):\n",
    "        super(BasicConv2d, self).__init__()\n",
    "        self.conv = nn.Conv2d(in_channels, out_channels, bias=False, **kwargs)\n",
    "        self.bn = nn.BatchNorm2d(out_channels, eps=0.001)\n",
    "\n",
    "    def forward(self, x):\n",
    "        x = self.conv(x)\n",
    "        x = self.bn(x)\n",
    "        return F.relu(x, inplace=True)"
   ]
  },
  {
   "cell_type": "code",
   "execution_count": null,
   "metadata": {},
   "outputs": [],
   "source": [
    "transforms.Normalize()"
   ]
  },
  {
   "cell_type": "code",
   "execution_count": 56,
   "metadata": {},
   "outputs": [
    {
     "name": "stdout",
     "output_type": "stream",
     "text": [
      "Files already downloaded and verified\n",
      "Files already downloaded and verified\n"
     ]
    }
   ],
   "source": [
    "tmean = [0.4914, 0.4822, 0.4465]\n",
    "tstd = [0.2023, 0.1994, 0.2010]\n",
    "transform_test = transforms.Compose([transforms.ToTensor(),\n",
    "                                    transforms.Normalize(tmean, tstd)])\n",
    "\n",
    "inv_normalize = transforms.Normalize(\n",
    "    mean=[-1*tmean[i]/tstd[i] for i in range(3)],\n",
    "    std=[1/tstd[i] for i in range(3)]\n",
    ")\n",
    "\n",
    "batchsize = 1\n",
    "transform = transforms.Compose(\n",
    "    [transforms.ToTensor(),\n",
    "     transforms.Normalize((0.5, 0.5, 0.5), (0.5, 0.5, 0.5))])\n",
    "\n",
    "trainset = torchvision.datasets.CIFAR10(root='../Data', train=True,\n",
    "                                        download=True, transform=transform_test)\n",
    "trainloader = torch.utils.data.DataLoader(trainset, batch_size=batchsize,\n",
    "                                          shuffle=True, num_workers=2)\n",
    "\n",
    "testset = torchvision.datasets.CIFAR10(root='../Data', train=False,\n",
    "                                       download=True, transform=transform_test)\n",
    "testloader = torch.utils.data.DataLoader(testset, batch_size=batchsize,\n",
    "                                         shuffle=False, num_workers=2)\n",
    "\n",
    "classes = ('plane', 'car', 'bird', 'cat',\n",
    "           'deer', 'dog', 'frog', 'horse', 'ship', 'truck')"
   ]
  },
  {
   "cell_type": "code",
   "execution_count": 57,
   "metadata": {},
   "outputs": [],
   "source": [
    "def imshowt(img):\n",
    "    img = inv_normalize(img)     # unnormalize\n",
    "    npimg = img.numpy()\n",
    "    plt.imshow(np.transpose(npimg, (1, 2, 0)))\n",
    "    plt.show()"
   ]
  },
  {
   "cell_type": "code",
   "execution_count": 10,
   "metadata": {},
   "outputs": [
    {
     "data": {
      "text/plain": [
       "<All keys matched successfully>"
      ]
     },
     "execution_count": 10,
     "metadata": {},
     "output_type": "execute_result"
    }
   ],
   "source": [
    "gnet = GoogLeNet()\n",
    "state_dict = torch.load('../Models/googlenet.pt')\n",
    "gnet.load_state_dict(state_dict)"
   ]
  },
  {
   "cell_type": "code",
   "execution_count": 51,
   "metadata": {},
   "outputs": [],
   "source": [
    "def predict_image(network, input_tensor):\n",
    "    \"\"\"\n",
    "    Input: Image tensor\n",
    "    Outputs: Predicted image class, probability assigned by network to top class\n",
    "    \"\"\"\n",
    "    outputs = network(input_tensor)#.squeeze()\n",
    "    class_probas = nn.Softmax(dim=1)(outputs).detach().cpu().numpy()[0]\n",
    "    idx = np.argmax(class_probas)\n",
    "    img_class = classes[idx]\n",
    "    proba = class_probas[idx]\n",
    "    return img_class, proba"
   ]
  },
  {
   "cell_type": "code",
   "execution_count": 12,
   "metadata": {},
   "outputs": [],
   "source": [
    "def get_adversarial_image(network, img_tuple, epsilon=0.01):\n",
    "    img_file, label = img_tuple\n",
    "    img = imageio.imread(img_file)\n",
    "    img_transform = transforms.Compose([transforms.ToTensor()])\n",
    "    input_tensor = img_transform(img).float().unsqueeze(0).to(device)\n",
    "    input_tensor.requires_grad = True\n",
    "    outputs = network(input_tensor)\n",
    "    # Format label.\n",
    "    class_name = labels_class[label]\n",
    "    class_idx = class_names.index(class_name)\n",
    "    label = torch.tensor(class_idx).unsqueeze(0).to(device)\n",
    "    # Get loss gradient with regard to image pixels.\n",
    "    loss_fn = nn.CrossEntropyLoss()\n",
    "    loss = loss_fn(outputs, label)\n",
    "    loss.backward()\n",
    "    img_gradient = input_tensor.grad\n",
    "    gradient_signs = torch.sign(img_gradient).cpu().numpy().squeeze()\n",
    "    # Match shape of image (channels last in this case)\n",
    "    gradient_signs = np.transpose(gradient_signs, axes=[1, 2, 0])\n",
    "    pixel_changes = (gradient_signs * 255 * epsilon).astype(np.int16)\n",
    "    changed_img = (img).astype(np.int16) + pixel_changes\n",
    "    adv_img = np.clip(changed_img, 0, 255).astype(np.uint8)\n",
    "    return adv_img"
   ]
  },
  {
   "cell_type": "code",
   "execution_count": 13,
   "metadata": {},
   "outputs": [],
   "source": [
    "for i in iter(trainloader):\n",
    "    image, label = i\n",
    "    break"
   ]
  },
  {
   "cell_type": "code",
   "execution_count": 58,
   "metadata": {},
   "outputs": [
    {
     "data": {
      "image/png": "[encoded data removed]",
      "text/plain": [
       "<Figure size 432x288 with 1 Axes>"
      ]
     },
     "metadata": {
      "needs_background": "light"
     },
     "output_type": "display_data"
    }
   ],
   "source": [
    "imshowt(image[0]);"
   ]
  },
  {
   "cell_type": "code",
   "execution_count": 59,
   "metadata": {},
   "outputs": [
    {
     "data": {
      "text/plain": [
       "('cat', 0.12189901)"
      ]
     },
     "execution_count": 59,
     "metadata": {},
     "output_type": "execute_result"
    }
   ],
   "source": [
    "predict_image(gnet, image)"
   ]
  },
  {
   "cell_type": "code",
   "execution_count": null,
   "metadata": {},
   "outputs": [],
   "source": [
    "# Predict on the same image samples as above.\n",
    "fig, ax = plt.subplots(nrows=5, ncols=10, figsize=(24, 18))\n",
    "for i in range(50):\n",
    "    row = i // 10\n",
    "    col = i - row * 10\n",
    "    img = imageio.imread(image_samples[i][0])\n",
    "    ax[row][col].imshow(img)\n",
    "    predicted_class, predicted_proba = predict_image(net, img)\n",
    "    ax[row][col].set_xlabel(f\"{predicted_class}: {predicted_proba:.6f}\")\n",
    "    ax[row][col].set_xticks([])\n",
    "    ax[row][col].set_yticks([])"
   ]
  }
 ],
 "metadata": {
  "kernelspec": {
   "display_name": "Python 3",
   "language": "python",
   "name": "python3"
  },
  "language_info": {
   "codemirror_mode": {
    "name": "ipython",
    "version": 3
   },
   "file_extension": ".py",
   "mimetype": "text/x-python",
   "name": "python",
   "nbconvert_exporter": "python",
   "pygments_lexer": "ipython3",
   "version": "3.8.5"
  }
 },
 "nbformat": 4,
 "nbformat_minor": 4
}
